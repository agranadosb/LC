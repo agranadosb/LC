{
  "nbformat": 4,
  "nbformat_minor": 0,
  "metadata": {
    "orig_nbformat": 4,
    "colab": {
      "name": "practica1.ipynb",
      "provenance": [],
      "collapsed_sections": []
    },
    "language_info": {
      "name": "python"
    },
    "kernelspec": {
      "name": "python3",
      "display_name": "Python 3"
    }
  },
  "cells": [
    {
      "cell_type": "code",
      "metadata": {
        "id": "KrnRBWngBawH"
      },
      "source": [
        "string = \"El/DT perro/N come/V carne/N de/P la/DT carnicería/N y/C de/P la/DT nevera/N y/C canta/V el/DT la/N la/N la/N ./Fp\""
      ],
      "execution_count": null,
      "outputs": []
    },
    {
      "cell_type": "code",
      "metadata": {
        "colab": {
          "base_uri": "https://localhost:8080/"
        },
        "id": "cnpzlm35BawJ",
        "outputId": "03d7a79d-e194-4759-9563-d53c0812308d"
      },
      "source": [
        "# Ejercicio 1\n",
        "\n",
        "def _ejercicio1_1():\n",
        "    result = {}\n",
        "    splitted = string.split()\n",
        "    for token in splitted:\n",
        "        _, annotation = token.split(\"/\")\n",
        "        result[annotation] = result.get(annotation, 0) + 1\n",
        "\n",
        "    return {key: result[key] for key in sorted(result.keys())}\n",
        "\n",
        "\n",
        "def ejercicio1_1():\n",
        "    result = _ejercicio1_1()\n",
        "\n",
        "    return \"\\n\".join([f\"{key} {item}\" for key, item in result.items()])\n",
        "\n",
        "print(ejercicio1_1())"
      ],
      "execution_count": null,
      "outputs": [
        {
          "output_type": "stream",
          "name": "stdout",
          "text": [
            "C 2\n",
            "DT 4\n",
            "Fp 1\n",
            "N 7\n",
            "P 2\n",
            "V 2\n"
          ]
        }
      ]
    },
    {
      "cell_type": "code",
      "metadata": {
        "colab": {
          "base_uri": "https://localhost:8080/"
        },
        "id": "IOXZIdyrBawJ",
        "outputId": "5bfd14b1-045b-4dcc-cd4f-dc68212b6696"
      },
      "source": [
        "# Ejercicio 2\n",
        "\n",
        "def _ejercicio1_2():\n",
        "    result = {}\n",
        "    splitted = string.split()\n",
        "\n",
        "    for token in splitted:\n",
        "        word, annotation = token.split(\"/\")\n",
        "        word = word.lower()\n",
        "        if not result.get(word, False):\n",
        "            result[word] = {}\n",
        "        result[word][annotation] = result[word].get(annotation, 0) + 1\n",
        "        result[word][\"counter\"] = result[word].get(\"counter\", 0) + 1\n",
        "\n",
        "    return {key: result[key] for key in sorted(result.keys())}\n",
        "\n",
        "\n",
        "def ejercicio1_2():\n",
        "    result = _ejercicio1_2()\n",
        "\n",
        "    words_strings = []\n",
        "    for key, item in result.items():\n",
        "        word_annotations = {\n",
        "            key: item[key] for key in sorted(item.keys()) if key != \"counter\"\n",
        "        }\n",
        "        word_string = f\"{key} {item['counter']}\"\n",
        "\n",
        "        total = [f\"{wa_key} {wa_item}\" for wa_key, wa_item in word_annotations.items()]\n",
        "\n",
        "        words_strings.append(\" \".join([word_string] + total))\n",
        "    return \"\\n\".join(words_strings)\n",
        "\n",
        "print(ejercicio1_2())"
      ],
      "execution_count": null,
      "outputs": [
        {
          "output_type": "stream",
          "name": "stdout",
          "text": [
            ". 1 Fp 1\n",
            "canta 1 V 1\n",
            "carne 1 N 1\n",
            "carnicería 1 N 1\n",
            "come 1 V 1\n",
            "de 2 P 2\n",
            "el 2 DT 2\n",
            "la 5 DT 2 N 3\n",
            "nevera 1 N 1\n",
            "perro 1 N 1\n",
            "y 2 C 2\n"
          ]
        }
      ]
    },
    {
      "cell_type": "code",
      "metadata": {
        "colab": {
          "base_uri": "https://localhost:8080/"
        },
        "id": "waIVfL_gBawK",
        "outputId": "515dc6d8-69b1-4aa6-9eac-8dea862d234b"
      },
      "source": [
        "# Ejercicio 3\n",
        "\n",
        "def ejercicio1_3():\n",
        "    result = {}\n",
        "    splitted = f\"<S> {string} </S>\".split()\n",
        "    grams = [splitted[i : i + 2] for i in range(len(splitted) - 1)]\n",
        "\n",
        "    _, annotation = grams[0][1].split(\"/\")\n",
        "    result[(\"<S>\", annotation)] = 1\n",
        "\n",
        "    for index in range(1, len(grams) - 1):\n",
        "        token_1, token_2 = grams[index]\n",
        "\n",
        "        _, annotation_1 = token_1.split(\"/\")\n",
        "        _, annotation_2 = token_2.split(\"/\")\n",
        "\n",
        "        pair = (annotation_1, annotation_2)\n",
        "        result[pair] = result.get(pair, 0) + 1\n",
        "\n",
        "    _, annotation = grams[-1][0].split(\"/\")\n",
        "    result[(annotation, \"</S>\")] = 1\n",
        "\n",
        "    result = {key: result[key] for key in sorted(result.keys())}\n",
        "\n",
        "    return \"\\n\".join([f\"{key} {item}\" for key, item in result.items()])\n",
        "\n",
        "print(ejercicio1_3())"
      ],
      "execution_count": null,
      "outputs": [
        {
          "output_type": "stream",
          "name": "stdout",
          "text": [
            "('<S>', 'DT') 1\n",
            "('C', 'P') 1\n",
            "('C', 'V') 1\n",
            "('DT', 'N') 4\n",
            "('Fp', '</S>') 1\n",
            "('N', 'C') 2\n",
            "('N', 'Fp') 1\n",
            "('N', 'N') 2\n",
            "('N', 'P') 1\n",
            "('N', 'V') 1\n",
            "('P', 'DT') 2\n",
            "('V', 'DT') 1\n",
            "('V', 'N') 1\n"
          ]
        }
      ]
    },
    {
      "cell_type": "code",
      "metadata": {
        "colab": {
          "base_uri": "https://localhost:8080/"
        },
        "id": "pKe4FXyNBawK",
        "outputId": "b63b22e8-bd5c-4416-fcb3-8305625eb3fb"
      },
      "source": [
        "# Ejercicio 4\n",
        "\n",
        "def ejercicio1_4(word):\n",
        "    annotations = _ejercicio1_1()\n",
        "    words = _ejercicio1_2()\n",
        "\n",
        "    p_string = \"P( {} | {} ) = {:6f}\"\n",
        "\n",
        "    if word not in words:\n",
        "        return \"Palabra es desconocida\"\n",
        "\n",
        "    word_annotations = words[word]\n",
        "    total = word_annotations[\"counter\"]\n",
        "\n",
        "    results_word = []\n",
        "    results_annotation = []\n",
        "    for annotation in word_annotations.keys():\n",
        "        if annotation == \"counter\":\n",
        "            continue\n",
        "\n",
        "        results_annotation.append(\n",
        "            p_string.format(annotation, word, word_annotations[annotation] / total)\n",
        "        )\n",
        "        results_word.append(\n",
        "            p_string.format(\n",
        "                word, annotation, word_annotations[annotation] / annotations[annotation]\n",
        "            )\n",
        "        )\n",
        "\n",
        "    return \"\\n\".join(sorted(results_annotation) + sorted(results_word))\n",
        "\n",
        "print(ejercicio1_4(\"la\"))"
      ],
      "execution_count": null,
      "outputs": [
        {
          "output_type": "stream",
          "name": "stdout",
          "text": [
            "P( DT | la ) = 0.400000\n",
            "P( N | la ) = 0.600000\n",
            "P( la | DT ) = 0.500000\n",
            "P( la | N ) = 0.428571\n"
          ]
        }
      ]
    },
    {
      "cell_type": "code",
      "metadata": {
        "id": "z-ddTpRlJr8p"
      },
      "source": [
        ""
      ],
      "execution_count": null,
      "outputs": []
    }
  ]
}