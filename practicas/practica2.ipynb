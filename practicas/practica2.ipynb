{
  "nbformat": 4,
  "nbformat_minor": 0,
  "metadata": {
    "colab": {
      "name": "practica2.ipynb",
      "provenance": [],
      "collapsed_sections": [
        "6FRSPWTw34qZ",
        "wn_w357q4C8v",
        "3Q2VTpvHahSd"
      ]
    },
    "kernelspec": {
      "name": "python3",
      "display_name": "Python 3"
    },
    "language_info": {
      "name": "python"
    }
  },
  "cells": [
    {
      "cell_type": "markdown",
      "metadata": {
        "id": "LAbeR6gdSgnD"
      },
      "source": [
        "# Instalaciones necesarias"
      ]
    },
    {
      "cell_type": "code",
      "metadata": {
        "id": "B6Uwfk-p1-ZG"
      },
      "source": [
        "#!pip install nltk\n",
        "#!pip install numpy\n",
        "#!pip install matplotlib\n",
        "#!python -m nltk.downloader book"
      ],
      "execution_count": 63,
      "outputs": []
    },
    {
      "cell_type": "markdown",
      "metadata": {
        "id": "Tkylu675MMwM"
      },
      "source": [
        "# Importar librerías necesarias y obtener corpus"
      ]
    },
    {
      "cell_type": "code",
      "metadata": {
        "colab": {
          "base_uri": "https://localhost:8080/"
        },
        "id": "UgmOQ_4IDqAK",
        "outputId": "714f46dd-7a54-4009-bcfa-10e95986e9a9"
      },
      "source": [
        "import nltk\n",
        "import numpy as np\n",
        "from nltk import hmm\n",
        "from nltk.tag import tnt\n",
        "import logging\n",
        "import time\n",
        "import math\n",
        "from matplotlib import pyplot as plt\n",
        "\n",
        "nltk.download('cess_esp')\n",
        "\n",
        "from nltk.corpus import cess_esp\n",
        "\n",
        "logging.basicConfig(\n",
        "    format=\"%(asctime)s %(levelname)-8s %(message)s\",\n",
        "    level=logging.INFO,\n",
        "    datefmt=\"%Y-%m-%d %H:%M:%S\",\n",
        ")\n",
        "\n",
        "list_pairs = np.array(cess_esp.tagged_sents(), dtype=object)\n",
        "\n",
        "logging.info(f\"Shape of the corpus: {list_pairs.shape}\")"
      ],
      "execution_count": 64,
      "outputs": [
        {
          "output_type": "stream",
          "name": "stdout",
          "text": [
            "[nltk_data] Downloading package cess_esp to /root/nltk_data...\n",
            "[nltk_data]   Package cess_esp is already up-to-date!\n"
          ]
        },
        {
          "output_type": "stream",
          "name": "stderr",
          "text": [
            "2021-10-05 08:57:10 INFO     Shape of the corpus: (6030,)\n"
          ]
        }
      ]
    },
    {
      "cell_type": "markdown",
      "metadata": {
        "id": "YdPTGCKoMzF7"
      },
      "source": [
        "# Transformar las secuencias"
      ]
    },
    {
      "cell_type": "code",
      "metadata": {
        "colab": {
          "base_uri": "https://localhost:8080/"
        },
        "id": "gLvXN0sI2E6T",
        "outputId": "a22dfc3b-b3a0-4229-c057-006ff52e2bdd"
      },
      "source": [
        "result = [None] * len(list_pairs)\n",
        "for index, sentence in enumerate(list_pairs):\n",
        "  sentence_result = []\n",
        "  for word in sentence:\n",
        "    if word[0] == u'*0*':\n",
        "      continue\n",
        "    value = 2\n",
        "    if word[1].startswith('v') or word[1].startswith('F'):\n",
        "      value = 3\n",
        "    sentence_result.append((word[0], word[1][:value]))\n",
        "  result[index] = sentence_result\n",
        "result = np.array(result, dtype=object)\n",
        "\n",
        "logging.info(f\"Shape of the result: {result.shape}\")"
      ],
      "execution_count": 65,
      "outputs": [
        {
          "output_type": "stream",
          "name": "stderr",
          "text": [
            "2021-10-05 08:57:11 INFO     Shape of the result: (6030,)\n"
          ]
        }
      ]
    },
    {
      "cell_type": "markdown",
      "metadata": {
        "id": "gMmD07XtNEmq"
      },
      "source": [
        "# Dividir en training y validation"
      ]
    },
    {
      "cell_type": "code",
      "metadata": {
        "colab": {
          "base_uri": "https://localhost:8080/"
        },
        "id": "7XwJ5q2zHTw4",
        "outputId": "6d9eff79-73ea-4368-dd13-147aab605b61"
      },
      "source": [
        "training_ratio = 0.9\n",
        "\n",
        "len_training = int(result.shape[0] * training_ratio)\n",
        "\n",
        "training_list = result[:len_training]\n",
        "validation_list = result[len_training:]\n",
        "\n",
        "logging.info(f\"Training length: {len_training}\")\n",
        "logging.info(f\"Validation length: {result.shape[0] - len_training}\")"
      ],
      "execution_count": 66,
      "outputs": [
        {
          "output_type": "stream",
          "name": "stderr",
          "text": [
            "2021-10-05 08:57:11 INFO     Training length: 5427\n",
            "2021-10-05 08:57:11 INFO     Validation length: 603\n"
          ]
        }
      ]
    },
    {
      "cell_type": "markdown",
      "metadata": {
        "id": "y8mxG4wWNNAT"
      },
      "source": [
        "# Entrenar HMM"
      ]
    },
    {
      "cell_type": "code",
      "metadata": {
        "colab": {
          "base_uri": "https://localhost:8080/"
        },
        "id": "DDZSss9DCeaU",
        "outputId": "77170333-9071-4611-b807-e42fbf260780"
      },
      "source": [
        "init = time.time()\n",
        "hmm_instance = hmm.HiddenMarkovModelTagger.train(training_list)\n",
        "hmm_accuracy = hmm_instance.evaluate(validation_list)\n",
        "logging.info(f\"Trained and evaluated in {time.time() - init:4.2f}s\")\n",
        "logging.info(f\"Accuracy {hmm_accuracy*100:=3.2f}%\")"
      ],
      "execution_count": 67,
      "outputs": [
        {
          "output_type": "stream",
          "name": "stderr",
          "text": [
            "2021-10-05 08:57:23 INFO     Trained and evaluated in 11.89s\n",
            "2021-10-05 08:57:23 INFO     Accuracy 87.84%\n"
          ]
        }
      ]
    },
    {
      "cell_type": "markdown",
      "metadata": {
        "id": "cOdQVcRINQvy"
      },
      "source": [
        "# Entrenar TNT"
      ]
    },
    {
      "cell_type": "code",
      "metadata": {
        "colab": {
          "base_uri": "https://localhost:8080/"
        },
        "id": "hxPgoyrkG_fZ",
        "outputId": "f8d08af9-2747-4786-c01a-d76955990183"
      },
      "source": [
        "init = time.time()\n",
        "\n",
        "tnt_instance = tnt.TnT()\n",
        "tnt_instance.train(training_list)\n",
        "tnt_accuracy = tnt_instance.evaluate(validation_list)\n",
        "\n",
        "logging.info(f\"Trained and evaluated in {time.time() - init:4.2f}s\")\n",
        "logging.info(f\"Accuracy {tnt_accuracy*100:=3.2f}%\")"
      ],
      "execution_count": 68,
      "outputs": [
        {
          "output_type": "stream",
          "name": "stderr",
          "text": [
            "2021-10-05 08:58:06 INFO     Trained and evaluated in 43.20s\n",
            "2021-10-05 08:58:06 INFO     Accuracy 82.55%\n"
          ]
        }
      ]
    },
    {
      "cell_type": "markdown",
      "metadata": {
        "id": "fEsyyqiSf9-h"
      },
      "source": [
        "# Funciones auxiliaresa para el cross-validation"
      ]
    },
    {
      "cell_type": "code",
      "metadata": {
        "id": "5-vGXQOCS4c9"
      },
      "source": [
        "def cross_validation(data, train_evaluate_function, blocks=10):\n",
        "  elements_per_block = math.ceil(data.shape[0] / blocks)\n",
        "  accuracies = []\n",
        "\n",
        "  for i in range(blocks):\n",
        "    test_indexes = set([i for i in range(i * elements_per_block, (i + 1) * elements_per_block)])\n",
        "    training_indexes = set([i for i in range(data.shape[0])])\n",
        "    training_indexes = training_indexes - test_indexes\n",
        "\n",
        "    training_items = data[list(training_indexes)]\n",
        "    test_items = data[list(test_indexes)]\n",
        "\n",
        "    accuracies.append(train_evaluate_function(training_items, test_items))\n",
        "  return accuracies\n",
        "\n",
        "def confidence_error(p, n):\n",
        "  return 1.95 * np.sqrt(p * (1 - p) / n)\n",
        "\n",
        "def plot_accuracies(accuracies, data, blocks=10):\n",
        "  elements_per_block = math.ceil(data.shape[0] / blocks)\n",
        "\n",
        "  block_iterator = range(1, blocks + 1)\n",
        "  tic = [confidence_error(accuracies[i - 1], elements_per_block) for i in block_iterator]\n",
        "\n",
        "  plt.plot(block_iterator, accuracies, 'ro')\n",
        "\n",
        "  plt.xlabel('Block')\n",
        "  plt.ylabel('Accuracy')\n",
        "  plt.title('Cross validation')\n",
        "\n",
        "  axes = plt.gca()\n",
        "  axes.set_ylim([0.8, 1.0])\n",
        "\n",
        "  plt.errorbar(block_iterator, accuracies, yerr=tic, linestyle='None')\n",
        "\n",
        "  plt.show()"
      ],
      "execution_count": 69,
      "outputs": []
    },
    {
      "cell_type": "markdown",
      "metadata": {
        "id": "6FRSPWTw34qZ"
      },
      "source": [
        "# 10-Cross Validation con el orden original"
      ]
    },
    {
      "cell_type": "markdown",
      "metadata": {
        "id": "wn_w357q4C8v"
      },
      "source": [
        "## HMM 10-Cross validation\n"
      ]
    },
    {
      "cell_type": "code",
      "metadata": {
        "id": "nB2kF4YA4bYT"
      },
      "source": [
        "def training_evaluate_hmm(training, test):\n",
        "  hmm_instance = hmm.HiddenMarkovModelTagger.train(training)\n",
        "  return hmm_instance.evaluate(test)\n",
        "\n",
        "hmm_accuracies = cross_validation(result, training_evaluate_hmm)"
      ],
      "execution_count": 70,
      "outputs": []
    },
    {
      "cell_type": "code",
      "metadata": {
        "id": "NZlFPz247L6K",
        "colab": {
          "base_uri": "https://localhost:8080/",
          "height": 295
        },
        "outputId": "51f668d6-d9eb-473e-cef7-4b0f34148bb3"
      },
      "source": [
        "plot_accuracies(hmm_accuracies, result)"
      ],
      "execution_count": 71,
      "outputs": [
        {
          "output_type": "display_data",
          "data": {
            "image/png": "[encoded data removed]",
            "text/plain": [
              "<Figure size 432x288 with 1 Axes>"
            ]
          },
          "metadata": {
            "needs_background": "light"
          }
        }
      ]
    },
    {
      "cell_type": "markdown",
      "metadata": {
        "id": "3Q2VTpvHahSd"
      },
      "source": [
        "## TNT 10-Cross validation\n",
        "\n"
      ]
    },
    {
      "cell_type": "code",
      "metadata": {
        "id": "fcUI3C3fWOLr"
      },
      "source": [
        "def training_evaluate_tnt(training, test):\n",
        "  tnt_instance = tnt.TnT()\n",
        "  tnt_instance.train(training)\n",
        "\n",
        "  return tnt_instance.evaluate(test)\n",
        "\n",
        "tnt_accuracies = cross_validation(result, training_evaluate_tnt)"
      ],
      "execution_count": 72,
      "outputs": []
    },
    {
      "cell_type": "code",
      "metadata": {
        "colab": {
          "base_uri": "https://localhost:8080/",
          "height": 295
        },
        "id": "sW1qOMWza1iD",
        "outputId": "7b8b6d88-444a-47ff-a2b0-3881c657d294"
      },
      "source": [
        "plot_accuracies(tnt_accuracies, result)"
      ],
      "execution_count": 73,
      "outputs": [
        {
          "output_type": "display_data",
          "data": {
            "image/png": "[encoded data removed]",
            "text/plain": [
              "<Figure size 432x288 with 1 Axes>"
            ]
          },
          "metadata": {
            "needs_background": "light"
          }
        }
      ]
    },
    {
      "cell_type": "markdown",
      "metadata": {
        "id": "GQH_h871eHYM"
      },
      "source": [
        "# 10-Cross Validation con el orden modificado\n"
      ]
    },
    {
      "cell_type": "code",
      "metadata": {
        "id": "XJXY05p1d4cb"
      },
      "source": [
        "data_shuffled = result.copy()\n",
        "np.random.shuffle(data_shuffled)"
      ],
      "execution_count": 74,
      "outputs": []
    },
    {
      "cell_type": "markdown",
      "metadata": {
        "id": "eXpDsYsyeOWK"
      },
      "source": [
        "## HMM 10-Cross validation\n"
      ]
    },
    {
      "cell_type": "code",
      "metadata": {
        "id": "A6AjS6gOeOWK"
      },
      "source": [
        "def training_evaluate_hmm(training, test):\n",
        "  hmm_instance = hmm.HiddenMarkovModelTagger.train(training)\n",
        "  return hmm_instance.evaluate(test)\n",
        "\n",
        "hmm_shuffled_accuracies = cross_validation(data_shuffled, training_evaluate_hmm)"
      ],
      "execution_count": 75,
      "outputs": []
    },
    {
      "cell_type": "code",
      "metadata": {
        "colab": {
          "base_uri": "https://localhost:8080/",
          "height": 295
        },
        "id": "HiDxJNRXeOWL",
        "outputId": "1d3c0889-3d93-4abe-fe42-d93c776a4695"
      },
      "source": [
        "plot_accuracies(hmm_shuffled_accuracies, data_shuffled)"
      ],
      "execution_count": 76,
      "outputs": [
        {
          "output_type": "display_data",
          "data": {
            "image/png": "[encoded data removed]",
            "text/plain": [
              "<Figure size 432x288 with 1 Axes>"
            ]
          },
          "metadata": {
            "needs_background": "light"
          }
        }
      ]
    },
    {
      "cell_type": "markdown",
      "metadata": {
        "id": "1BAnBrsdetVE"
      },
      "source": [
        "## TNT 10-Cross validation\n",
        "\n"
      ]
    },
    {
      "cell_type": "code",
      "metadata": {
        "id": "clQP36JDetVG"
      },
      "source": [
        "def training_evaluate_tnt(training, test):\n",
        "  tnt_instance = tnt.TnT()\n",
        "  tnt_instance.train(training)\n",
        "\n",
        "  return tnt_instance.evaluate(test)\n",
        "\n",
        "tnt_shuffled_accuracies = cross_validation(data_shuffled, training_evaluate_tnt)"
      ],
      "execution_count": 77,
      "outputs": []
    },
    {
      "cell_type": "code",
      "metadata": {
        "colab": {
          "base_uri": "https://localhost:8080/",
          "height": 295
        },
        "id": "qI_2UXxOetVG",
        "outputId": "a083c5b2-776e-46b2-9226-283bb990a8d4"
      },
      "source": [
        "plot_accuracies(tnt_shuffled_accuracies, data_shuffled)"
      ],
      "execution_count": 78,
      "outputs": [
        {
          "output_type": "display_data",
          "data": {
            "image/png": "[encoded data removed]",
            "text/plain": [
              "<Figure size 432x288 with 1 Axes>"
            ]
          },
          "metadata": {
            "needs_background": "light"
          }
        }
      ]
    },
    {
      "cell_type": "code",
      "metadata": {
        "id": "ujYNnc1Ne9ef"
      },
      "source": [
        ""
      ],
      "execution_count": 78,
      "outputs": []
    }
  ]
}