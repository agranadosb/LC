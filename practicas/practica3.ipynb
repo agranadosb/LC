{
  "nbformat": 4,
  "nbformat_minor": 0,
  "metadata": {
    "colab": {
      "name": "practica3.ipynb",
      "provenance": [],
      "collapsed_sections": []
    },
    "kernelspec": {
      "name": "python3",
      "display_name": "Python 3"
    },
    "language_info": {
      "name": "python"
    }
  },
  "cells": [
    {
      "cell_type": "code",
      "metadata": {
        "colab": {
          "base_uri": "https://localhost:8080/"
        },
        "id": "Ji7PFiI8yoiC",
        "outputId": "19453b7f-b659-4728-ff0c-3baf3659d5ce"
      },
      "source": [
        "from typing import List\n",
        "\n",
        "from nltk import download, word_tokenize\n",
        "from nltk.data import find\n",
        "from nltk.corpus import wordnet\n",
        "from nltk.corpus import stopwords as stopwords_reader\n",
        "\n",
        "from scipy.spatial.distance import cosine\n",
        "\n",
        "import numpy as np\n",
        "import gensim\n",
        "\n",
        "download('wordnet')\n",
        "download('stopwords')\n",
        "download('punkt')\n",
        "download('word2vec_sample')\n",
        "\n",
        "stopwords = set(stopwords_reader.words(\"english\"))\n",
        "word2vec_sample = str(find('models/word2vec_sample/pruned.word2vec.txt'))\n",
        "model = gensim.models.KeyedVectors.load_word2vec_format(word2vec_sample, binary=False)"
      ],
      "execution_count": 19,
      "outputs": [
        {
          "output_type": "stream",
          "name": "stdout",
          "text": [
            "[nltk_data] Downloading package wordnet to /root/nltk_data...\n",
            "[nltk_data]   Package wordnet is already up-to-date!\n",
            "[nltk_data] Downloading package stopwords to /root/nltk_data...\n",
            "[nltk_data]   Package stopwords is already up-to-date!\n",
            "[nltk_data] Downloading package punkt to /root/nltk_data...\n",
            "[nltk_data]   Package punkt is already up-to-date!\n",
            "[nltk_data] Downloading package word2vec_sample to /root/nltk_data...\n",
            "[nltk_data]   Package word2vec_sample is already up-to-date!\n"
          ]
        }
      ]
    },
    {
      "cell_type": "code",
      "metadata": {
        "id": "niAev-WG5DBb"
      },
      "source": [
        "example_sentence = \"Yesterday I went to the bank to withdraw the money and the credit card did not work\"\n",
        "example_word = \"bank\""
      ],
      "execution_count": 20,
      "outputs": []
    },
    {
      "cell_type": "code",
      "metadata": {
        "id": "3aCmMjsh5Qg6"
      },
      "source": [
        "def simplified_lesk(word: str, sentence: str) -> str:\n",
        "  def tokenize_no_stopwords(sentence: str) -> List[str]:\n",
        "    tokens = set(word_tokenize(sentence))\n",
        "    return [w.lower() for w in tokens if not w.lower() in list(stopwords)]\n",
        "\n",
        "  senses = wordnet.synsets(word)\n",
        "  best_sense = None\n",
        "  max_overlap = 0\n",
        "  context = set(tokenize_no_stopwords(sentence))\n",
        "\n",
        "  for sense in senses:\n",
        "    signature = set(tokenize_no_stopwords(sense.definition()))\n",
        "\n",
        "    for example in sense.examples():\n",
        "      signature = signature.union(tokenize_no_stopwords(example))\n",
        "    overlap = len(signature.intersection(context))\n",
        "\n",
        "    if overlap > max_overlap:\n",
        "      max_overlap = overlap\n",
        "      best_sense = sense\n",
        "  return best_sense"
      ],
      "execution_count": 21,
      "outputs": []
    },
    {
      "cell_type": "code",
      "metadata": {
        "colab": {
          "base_uri": "https://localhost:8080/"
        },
        "id": "UfGq8Ctk5fyC",
        "outputId": "8a4f6410-f225-4325-a546-76fea5e86eff"
      },
      "source": [
        "simplified_lesk(example_word, example_sentence)"
      ],
      "execution_count": 22,
      "outputs": [
        {
          "output_type": "execute_result",
          "data": {
            "text/plain": [
              "Synset('depository_financial_institution.n.01')"
            ]
          },
          "metadata": {},
          "execution_count": 22
        }
      ]
    },
    {
      "cell_type": "code",
      "metadata": {
        "id": "aCJ08W9n5svG"
      },
      "source": [
        "def word_embeddings_smiliarity(word: str, sentence: str) -> str:\n",
        "  def tokenize_no_stopwords(sentence: str) -> List[str]:\n",
        "    tokens = set(word_tokenize(sentence))\n",
        "    return [w.lower() for w in tokens if not w.lower() in list(stopwords)]\n",
        "\n",
        "  def words_to_vector(words: set) -> np.array:\n",
        "    vectros = []\n",
        "    vector_mean = model.vectors.mean(axis=0)\n",
        "    for word in words:\n",
        "      vector = vector_mean\n",
        "      vector_word = model.vocab.get(word, False)\n",
        "      if vector_word:\n",
        "        vector = model[word]\n",
        "\n",
        "      vectros.append(vector)\n",
        "    \n",
        "    return np.mean(np.asarray(vectros), axis = 0)\n",
        "\n",
        "  context_vector = words_to_vector(set(tokenize_no_stopwords(sentence)))\n",
        "  max_overlap = -1\n",
        "  best_sense = None\n",
        "\n",
        "  for sense in wordnet.synsets(word):\n",
        "    signature = set(tokenize_no_stopwords(sense.definition()))\n",
        "\n",
        "    for example in sense.examples():\n",
        "      signature = signature.union(tokenize_no_stopwords(example))\n",
        "\n",
        "    signature_vector = words_to_vector(signature)\n",
        "    overlap = 1 - cosine(context_vector, signature_vector)\n",
        "\n",
        "    if overlap > max_overlap:\n",
        "      max_overlap = overlap\n",
        "      best_sense = sense\n",
        "  return best_sense"
      ],
      "execution_count": 23,
      "outputs": []
    },
    {
      "cell_type": "code",
      "metadata": {
        "colab": {
          "base_uri": "https://localhost:8080/"
        },
        "id": "H7HmyC6fGryt",
        "outputId": "bea2335c-ee12-4392-c8c4-5272d331b0b4"
      },
      "source": [
        "word_embeddings_smiliarity(example_word, example_sentence)"
      ],
      "execution_count": 24,
      "outputs": [
        {
          "output_type": "execute_result",
          "data": {
            "text/plain": [
              "Synset('depository_financial_institution.n.01')"
            ]
          },
          "metadata": {},
          "execution_count": 24
        }
      ]
    }
  ]
}